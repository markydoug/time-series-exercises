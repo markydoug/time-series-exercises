{
 "cells": [
  {
   "cell_type": "code",
   "execution_count": 1,
   "id": "0faf08dc",
   "metadata": {},
   "outputs": [],
   "source": [
    "import pandas as pd\n",
    "\n",
    "import matplotlib.pyplot as plt\n",
    "\n",
    "from vega_datasets import data\n",
    "\n",
    "import warnings\n",
    "warnings.filterwarnings('ignore')"
   ]
  },
  {
   "cell_type": "markdown",
   "id": "dc700119",
   "metadata": {},
   "source": [
    "## sf_temps() "
   ]
  },
  {
   "cell_type": "code",
   "execution_count": 2,
   "id": "bd10147f",
   "metadata": {},
   "outputs": [],
   "source": [
    "df = data.sf_temps()"
   ]
  },
  {
   "cell_type": "code",
   "execution_count": 3,
   "id": "2b0dc6d0",
   "metadata": {},
   "outputs": [
    {
     "name": "stdout",
     "output_type": "stream",
     "text": [
      "<class 'pandas.core.frame.DataFrame'>\n",
      "RangeIndex: 8759 entries, 0 to 8758\n",
      "Data columns (total 2 columns):\n",
      " #   Column  Non-Null Count  Dtype         \n",
      "---  ------  --------------  -----         \n",
      " 0   temp    8759 non-null   float64       \n",
      " 1   date    8759 non-null   datetime64[ns]\n",
      "dtypes: datetime64[ns](1), float64(1)\n",
      "memory usage: 137.0 KB\n"
     ]
    }
   ],
   "source": [
    "df.info()"
   ]
  },
  {
   "cell_type": "code",
   "execution_count": 4,
   "id": "afa68455",
   "metadata": {
    "scrolled": true
   },
   "outputs": [
    {
     "data": {
      "text/html": [
       "<div>\n",
       "<style scoped>\n",
       "    .dataframe tbody tr th:only-of-type {\n",
       "        vertical-align: middle;\n",
       "    }\n",
       "\n",
       "    .dataframe tbody tr th {\n",
       "        vertical-align: top;\n",
       "    }\n",
       "\n",
       "    .dataframe thead th {\n",
       "        text-align: right;\n",
       "    }\n",
       "</style>\n",
       "<table border=\"1\" class=\"dataframe\">\n",
       "  <thead>\n",
       "    <tr style=\"text-align: right;\">\n",
       "      <th></th>\n",
       "      <th>temp</th>\n",
       "      <th>date</th>\n",
       "    </tr>\n",
       "  </thead>\n",
       "  <tbody>\n",
       "    <tr>\n",
       "      <th>0</th>\n",
       "      <td>47.8</td>\n",
       "      <td>2010-01-01 00:00:00</td>\n",
       "    </tr>\n",
       "    <tr>\n",
       "      <th>1</th>\n",
       "      <td>47.4</td>\n",
       "      <td>2010-01-01 01:00:00</td>\n",
       "    </tr>\n",
       "    <tr>\n",
       "      <th>2</th>\n",
       "      <td>46.9</td>\n",
       "      <td>2010-01-01 02:00:00</td>\n",
       "    </tr>\n",
       "    <tr>\n",
       "      <th>3</th>\n",
       "      <td>46.5</td>\n",
       "      <td>2010-01-01 03:00:00</td>\n",
       "    </tr>\n",
       "    <tr>\n",
       "      <th>4</th>\n",
       "      <td>46.0</td>\n",
       "      <td>2010-01-01 04:00:00</td>\n",
       "    </tr>\n",
       "  </tbody>\n",
       "</table>\n",
       "</div>"
      ],
      "text/plain": [
       "   temp                date\n",
       "0  47.8 2010-01-01 00:00:00\n",
       "1  47.4 2010-01-01 01:00:00\n",
       "2  46.9 2010-01-01 02:00:00\n",
       "3  46.5 2010-01-01 03:00:00\n",
       "4  46.0 2010-01-01 04:00:00"
      ]
     },
     "execution_count": 4,
     "metadata": {},
     "output_type": "execute_result"
    }
   ],
   "source": [
    "df.head()"
   ]
  },
  {
   "cell_type": "code",
   "execution_count": 5,
   "id": "2bb06aff",
   "metadata": {},
   "outputs": [
    {
     "data": {
      "text/html": [
       "<div>\n",
       "<style scoped>\n",
       "    .dataframe tbody tr th:only-of-type {\n",
       "        vertical-align: middle;\n",
       "    }\n",
       "\n",
       "    .dataframe tbody tr th {\n",
       "        vertical-align: top;\n",
       "    }\n",
       "\n",
       "    .dataframe thead th {\n",
       "        text-align: right;\n",
       "    }\n",
       "</style>\n",
       "<table border=\"1\" class=\"dataframe\">\n",
       "  <thead>\n",
       "    <tr style=\"text-align: right;\">\n",
       "      <th></th>\n",
       "      <th>temp</th>\n",
       "    </tr>\n",
       "    <tr>\n",
       "      <th>date</th>\n",
       "      <th></th>\n",
       "    </tr>\n",
       "  </thead>\n",
       "  <tbody>\n",
       "    <tr>\n",
       "      <th>2010-01-01 00:00:00</th>\n",
       "      <td>47.8</td>\n",
       "    </tr>\n",
       "    <tr>\n",
       "      <th>2010-01-01 01:00:00</th>\n",
       "      <td>47.4</td>\n",
       "    </tr>\n",
       "    <tr>\n",
       "      <th>2010-01-01 02:00:00</th>\n",
       "      <td>46.9</td>\n",
       "    </tr>\n",
       "    <tr>\n",
       "      <th>2010-01-01 03:00:00</th>\n",
       "      <td>46.5</td>\n",
       "    </tr>\n",
       "    <tr>\n",
       "      <th>2010-01-01 04:00:00</th>\n",
       "      <td>46.0</td>\n",
       "    </tr>\n",
       "    <tr>\n",
       "      <th>...</th>\n",
       "      <td>...</td>\n",
       "    </tr>\n",
       "    <tr>\n",
       "      <th>2010-12-31 19:00:00</th>\n",
       "      <td>50.4</td>\n",
       "    </tr>\n",
       "    <tr>\n",
       "      <th>2010-12-31 20:00:00</th>\n",
       "      <td>49.9</td>\n",
       "    </tr>\n",
       "    <tr>\n",
       "      <th>2010-12-31 21:00:00</th>\n",
       "      <td>49.4</td>\n",
       "    </tr>\n",
       "    <tr>\n",
       "      <th>2010-12-31 22:00:00</th>\n",
       "      <td>48.8</td>\n",
       "    </tr>\n",
       "    <tr>\n",
       "      <th>2010-12-31 23:00:00</th>\n",
       "      <td>48.3</td>\n",
       "    </tr>\n",
       "  </tbody>\n",
       "</table>\n",
       "<p>8759 rows × 1 columns</p>\n",
       "</div>"
      ],
      "text/plain": [
       "                     temp\n",
       "date                     \n",
       "2010-01-01 00:00:00  47.8\n",
       "2010-01-01 01:00:00  47.4\n",
       "2010-01-01 02:00:00  46.9\n",
       "2010-01-01 03:00:00  46.5\n",
       "2010-01-01 04:00:00  46.0\n",
       "...                   ...\n",
       "2010-12-31 19:00:00  50.4\n",
       "2010-12-31 20:00:00  49.9\n",
       "2010-12-31 21:00:00  49.4\n",
       "2010-12-31 22:00:00  48.8\n",
       "2010-12-31 23:00:00  48.3\n",
       "\n",
       "[8759 rows x 1 columns]"
      ]
     },
     "execution_count": 5,
     "metadata": {},
     "output_type": "execute_result"
    }
   ],
   "source": [
    "temps = df.set_index('date').sort_index()\n",
    "temps"
   ]
  },
  {
   "cell_type": "markdown",
   "id": "d16f0ff5",
   "metadata": {},
   "source": [
    "### 1. Resample by the day and take the average temperature. Visualize the average temperature over time."
   ]
  },
  {
   "cell_type": "code",
   "execution_count": 6,
   "id": "14a357ee",
   "metadata": {},
   "outputs": [
    {
     "data": {
      "text/html": [
       "<div>\n",
       "<style scoped>\n",
       "    .dataframe tbody tr th:only-of-type {\n",
       "        vertical-align: middle;\n",
       "    }\n",
       "\n",
       "    .dataframe tbody tr th {\n",
       "        vertical-align: top;\n",
       "    }\n",
       "\n",
       "    .dataframe thead th {\n",
       "        text-align: right;\n",
       "    }\n",
       "</style>\n",
       "<table border=\"1\" class=\"dataframe\">\n",
       "  <thead>\n",
       "    <tr style=\"text-align: right;\">\n",
       "      <th></th>\n",
       "      <th>temp</th>\n",
       "    </tr>\n",
       "    <tr>\n",
       "      <th>date</th>\n",
       "      <th></th>\n",
       "    </tr>\n",
       "  </thead>\n",
       "  <tbody>\n",
       "    <tr>\n",
       "      <th>2010-01-01</th>\n",
       "      <td>49.170833</td>\n",
       "    </tr>\n",
       "    <tr>\n",
       "      <th>2010-01-02</th>\n",
       "      <td>49.304167</td>\n",
       "    </tr>\n",
       "    <tr>\n",
       "      <th>2010-01-03</th>\n",
       "      <td>49.391667</td>\n",
       "    </tr>\n",
       "    <tr>\n",
       "      <th>2010-01-04</th>\n",
       "      <td>49.445833</td>\n",
       "    </tr>\n",
       "    <tr>\n",
       "      <th>2010-01-05</th>\n",
       "      <td>49.491667</td>\n",
       "    </tr>\n",
       "    <tr>\n",
       "      <th>...</th>\n",
       "      <td>...</td>\n",
       "    </tr>\n",
       "    <tr>\n",
       "      <th>2010-12-27</th>\n",
       "      <td>48.991667</td>\n",
       "    </tr>\n",
       "    <tr>\n",
       "      <th>2010-12-28</th>\n",
       "      <td>49.000000</td>\n",
       "    </tr>\n",
       "    <tr>\n",
       "      <th>2010-12-29</th>\n",
       "      <td>49.012500</td>\n",
       "    </tr>\n",
       "    <tr>\n",
       "      <th>2010-12-30</th>\n",
       "      <td>49.012500</td>\n",
       "    </tr>\n",
       "    <tr>\n",
       "      <th>2010-12-31</th>\n",
       "      <td>49.116667</td>\n",
       "    </tr>\n",
       "  </tbody>\n",
       "</table>\n",
       "<p>365 rows × 1 columns</p>\n",
       "</div>"
      ],
      "text/plain": [
       "                 temp\n",
       "date                 \n",
       "2010-01-01  49.170833\n",
       "2010-01-02  49.304167\n",
       "2010-01-03  49.391667\n",
       "2010-01-04  49.445833\n",
       "2010-01-05  49.491667\n",
       "...               ...\n",
       "2010-12-27  48.991667\n",
       "2010-12-28  49.000000\n",
       "2010-12-29  49.012500\n",
       "2010-12-30  49.012500\n",
       "2010-12-31  49.116667\n",
       "\n",
       "[365 rows x 1 columns]"
      ]
     },
     "execution_count": 6,
     "metadata": {},
     "output_type": "execute_result"
    }
   ],
   "source": [
    "daily_temps = temps.resample('D').mean()\n",
    "daily_temps"
   ]
  },
  {
   "cell_type": "code",
   "execution_count": 7,
   "id": "5cbdd8e4",
   "metadata": {},
   "outputs": [
    {
     "data": {
      "image/png": "[encoded data removed]",
      "text/plain": [
       "<Figure size 432x288 with 1 Axes>"
      ]
     },
     "metadata": {
      "needs_background": "light"
     },
     "output_type": "display_data"
    }
   ],
   "source": [
    "daily_temps.temp.plot();"
   ]
  },
  {
   "cell_type": "markdown",
   "id": "18583258",
   "metadata": {},
   "source": [
    "### 2. Write the code necessary to visualize the minimum temperature over time."
   ]
  },
  {
   "cell_type": "code",
   "execution_count": 8,
   "id": "e47a04ad",
   "metadata": {},
   "outputs": [],
   "source": [
    "min_temps = temps.resample('D').min()"
   ]
  },
  {
   "cell_type": "code",
   "execution_count": 9,
   "id": "f8ad1813",
   "metadata": {},
   "outputs": [
    {
     "data": {
      "image/png": "[encoded data removed]",
      "text/plain": [
       "<Figure size 432x288 with 1 Axes>"
      ]
     },
     "metadata": {
      "needs_background": "light"
     },
     "output_type": "display_data"
    }
   ],
   "source": [
    "min_temps.temp.plot();"
   ]
  },
  {
   "cell_type": "markdown",
   "id": "af0a6c10",
   "metadata": {},
   "source": [
    "### 3. Write the code necessary to visualize the maximum temperature over time."
   ]
  },
  {
   "cell_type": "code",
   "execution_count": 10,
   "id": "70472b81",
   "metadata": {},
   "outputs": [],
   "source": [
    "max_temps = temps.resample('D').max()"
   ]
  },
  {
   "cell_type": "code",
   "execution_count": 11,
   "id": "86f45371",
   "metadata": {},
   "outputs": [
    {
     "data": {
      "image/png": "[encoded data removed]",
      "text/plain": [
       "<Figure size 432x288 with 1 Axes>"
      ]
     },
     "metadata": {
      "needs_background": "light"
     },
     "output_type": "display_data"
    }
   ],
   "source": [
    "max_temps.temp.plot();"
   ]
  },
  {
   "cell_type": "markdown",
   "id": "201d13ee",
   "metadata": {},
   "source": [
    "### 4. Which month is the coldest, on average?"
   ]
  },
  {
   "cell_type": "code",
   "execution_count": 12,
   "id": "1c8802cd",
   "metadata": {},
   "outputs": [],
   "source": [
    "new_df=df.copy()"
   ]
  },
  {
   "cell_type": "code",
   "execution_count": 13,
   "id": "d191d2f1",
   "metadata": {},
   "outputs": [],
   "source": [
    "new_df['month'] = new_df.date.dt.month_name()"
   ]
  },
  {
   "cell_type": "code",
   "execution_count": 14,
   "id": "20c4384a",
   "metadata": {},
   "outputs": [
    {
     "data": {
      "text/html": [
       "<div>\n",
       "<style scoped>\n",
       "    .dataframe tbody tr th:only-of-type {\n",
       "        vertical-align: middle;\n",
       "    }\n",
       "\n",
       "    .dataframe tbody tr th {\n",
       "        vertical-align: top;\n",
       "    }\n",
       "\n",
       "    .dataframe thead th {\n",
       "        text-align: right;\n",
       "    }\n",
       "</style>\n",
       "<table border=\"1\" class=\"dataframe\">\n",
       "  <thead>\n",
       "    <tr style=\"text-align: right;\">\n",
       "      <th></th>\n",
       "      <th>temp</th>\n",
       "    </tr>\n",
       "    <tr>\n",
       "      <th>month</th>\n",
       "      <th></th>\n",
       "    </tr>\n",
       "  </thead>\n",
       "  <tbody>\n",
       "    <tr>\n",
       "      <th>January</th>\n",
       "      <td>49.98414</td>\n",
       "    </tr>\n",
       "  </tbody>\n",
       "</table>\n",
       "</div>"
      ],
      "text/plain": [
       "             temp\n",
       "month            \n",
       "January  49.98414"
      ]
     },
     "execution_count": 14,
     "metadata": {},
     "output_type": "execute_result"
    }
   ],
   "source": [
    "new_df.groupby('month').mean().sort_values('temp').head(1)"
   ]
  },
  {
   "cell_type": "markdown",
   "id": "c9185248",
   "metadata": {},
   "source": [
    "### 5. Which month has the highest average temperature?"
   ]
  },
  {
   "cell_type": "code",
   "execution_count": 15,
   "id": "bdd1f1a2",
   "metadata": {},
   "outputs": [
    {
     "data": {
      "text/html": [
       "<div>\n",
       "<style scoped>\n",
       "    .dataframe tbody tr th:only-of-type {\n",
       "        vertical-align: middle;\n",
       "    }\n",
       "\n",
       "    .dataframe tbody tr th {\n",
       "        vertical-align: top;\n",
       "    }\n",
       "\n",
       "    .dataframe thead th {\n",
       "        text-align: right;\n",
       "    }\n",
       "</style>\n",
       "<table border=\"1\" class=\"dataframe\">\n",
       "  <thead>\n",
       "    <tr style=\"text-align: right;\">\n",
       "      <th></th>\n",
       "      <th>temp</th>\n",
       "    </tr>\n",
       "    <tr>\n",
       "      <th>month</th>\n",
       "      <th></th>\n",
       "    </tr>\n",
       "  </thead>\n",
       "  <tbody>\n",
       "    <tr>\n",
       "      <th>September</th>\n",
       "      <td>62.487083</td>\n",
       "    </tr>\n",
       "  </tbody>\n",
       "</table>\n",
       "</div>"
      ],
      "text/plain": [
       "                temp\n",
       "month               \n",
       "September  62.487083"
      ]
     },
     "execution_count": 15,
     "metadata": {},
     "output_type": "execute_result"
    }
   ],
   "source": [
    "new_df.groupby('month').mean().sort_values('temp', ascending=False).head(1)"
   ]
  },
  {
   "cell_type": "markdown",
   "id": "847e7c3f",
   "metadata": {},
   "source": [
    "### 6. Resample by the day and calculate the min and max temp for the day (Hint: .agg(['min', 'max'])). Use this resampled dataframe to calculate the change in temperature for the day. Which month has the highest daily temperature variability?"
   ]
  },
  {
   "cell_type": "code",
   "execution_count": 46,
   "id": "a14922aa",
   "metadata": {},
   "outputs": [],
   "source": [
    "daily_temp = df.set_index('date').sort_index().resample('D').agg(['min','max'] ).temp"
   ]
  },
  {
   "cell_type": "code",
   "execution_count": 48,
   "id": "2f50a2a4",
   "metadata": {},
   "outputs": [],
   "source": [
    "daily_temp['temp_diff'] = daily_temp['max'] - daily_temp['min']"
   ]
  },
  {
   "cell_type": "code",
   "execution_count": 51,
   "id": "d86793cd",
   "metadata": {},
   "outputs": [],
   "source": [
    "daily_temp['month'] = daily_temp.index.month_name()"
   ]
  },
  {
   "cell_type": "code",
   "execution_count": 52,
   "id": "a06590dd",
   "metadata": {},
   "outputs": [
    {
     "data": {
      "text/html": [
       "<div>\n",
       "<style scoped>\n",
       "    .dataframe tbody tr th:only-of-type {\n",
       "        vertical-align: middle;\n",
       "    }\n",
       "\n",
       "    .dataframe tbody tr th {\n",
       "        vertical-align: top;\n",
       "    }\n",
       "\n",
       "    .dataframe thead th {\n",
       "        text-align: right;\n",
       "    }\n",
       "</style>\n",
       "<table border=\"1\" class=\"dataframe\">\n",
       "  <thead>\n",
       "    <tr style=\"text-align: right;\">\n",
       "      <th></th>\n",
       "      <th>min</th>\n",
       "      <th>max</th>\n",
       "      <th>temp_diff</th>\n",
       "    </tr>\n",
       "    <tr>\n",
       "      <th>month</th>\n",
       "      <th></th>\n",
       "      <th></th>\n",
       "      <th></th>\n",
       "    </tr>\n",
       "  </thead>\n",
       "  <tbody>\n",
       "    <tr>\n",
       "      <th>August</th>\n",
       "      <td>57.2</td>\n",
       "      <td>72.2</td>\n",
       "      <td>15.0</td>\n",
       "    </tr>\n",
       "  </tbody>\n",
       "</table>\n",
       "</div>"
      ],
      "text/plain": [
       "         min   max  temp_diff\n",
       "month                        \n",
       "August  57.2  72.2       15.0"
      ]
     },
     "execution_count": 52,
     "metadata": {},
     "output_type": "execute_result"
    }
   ],
   "source": [
    "daily_temp.groupby('month').max().sort_values('temp_diff', ascending=False).head(1)"
   ]
  },
  {
   "cell_type": "markdown",
   "id": "02d40c68",
   "metadata": {},
   "source": [
    "### Bonus: Visualize the daily min, average, and max temperature over time on a single line plot, i.e. the min, average, and maximum temperature should be 3 seperate lines."
   ]
  },
  {
   "cell_type": "code",
   "execution_count": 16,
   "id": "ba84377d",
   "metadata": {},
   "outputs": [],
   "source": [
    "day_viz = temps.resample('D').temp.agg(['min', 'max', 'mean'])"
   ]
  },
  {
   "cell_type": "code",
   "execution_count": 17,
   "id": "d12748e3",
   "metadata": {},
   "outputs": [
    {
     "data": {
      "text/html": [
       "<div>\n",
       "<style scoped>\n",
       "    .dataframe tbody tr th:only-of-type {\n",
       "        vertical-align: middle;\n",
       "    }\n",
       "\n",
       "    .dataframe tbody tr th {\n",
       "        vertical-align: top;\n",
       "    }\n",
       "\n",
       "    .dataframe thead th {\n",
       "        text-align: right;\n",
       "    }\n",
       "</style>\n",
       "<table border=\"1\" class=\"dataframe\">\n",
       "  <thead>\n",
       "    <tr style=\"text-align: right;\">\n",
       "      <th></th>\n",
       "      <th>min</th>\n",
       "      <th>max</th>\n",
       "      <th>mean</th>\n",
       "    </tr>\n",
       "    <tr>\n",
       "      <th>date</th>\n",
       "      <th></th>\n",
       "      <th></th>\n",
       "      <th></th>\n",
       "    </tr>\n",
       "  </thead>\n",
       "  <tbody>\n",
       "    <tr>\n",
       "      <th>2010-01-01</th>\n",
       "      <td>45.8</td>\n",
       "      <td>53.3</td>\n",
       "      <td>49.170833</td>\n",
       "    </tr>\n",
       "    <tr>\n",
       "      <th>2010-01-02</th>\n",
       "      <td>46.0</td>\n",
       "      <td>53.4</td>\n",
       "      <td>49.304167</td>\n",
       "    </tr>\n",
       "    <tr>\n",
       "      <th>2010-01-03</th>\n",
       "      <td>46.1</td>\n",
       "      <td>53.5</td>\n",
       "      <td>49.391667</td>\n",
       "    </tr>\n",
       "    <tr>\n",
       "      <th>2010-01-04</th>\n",
       "      <td>46.1</td>\n",
       "      <td>53.6</td>\n",
       "      <td>49.445833</td>\n",
       "    </tr>\n",
       "    <tr>\n",
       "      <th>2010-01-05</th>\n",
       "      <td>46.1</td>\n",
       "      <td>53.8</td>\n",
       "      <td>49.491667</td>\n",
       "    </tr>\n",
       "    <tr>\n",
       "      <th>...</th>\n",
       "      <td>...</td>\n",
       "      <td>...</td>\n",
       "      <td>...</td>\n",
       "    </tr>\n",
       "    <tr>\n",
       "      <th>2010-12-27</th>\n",
       "      <td>45.6</td>\n",
       "      <td>53.2</td>\n",
       "      <td>48.991667</td>\n",
       "    </tr>\n",
       "    <tr>\n",
       "      <th>2010-12-28</th>\n",
       "      <td>45.6</td>\n",
       "      <td>53.2</td>\n",
       "      <td>49.000000</td>\n",
       "    </tr>\n",
       "    <tr>\n",
       "      <th>2010-12-29</th>\n",
       "      <td>45.6</td>\n",
       "      <td>53.2</td>\n",
       "      <td>49.012500</td>\n",
       "    </tr>\n",
       "    <tr>\n",
       "      <th>2010-12-30</th>\n",
       "      <td>45.6</td>\n",
       "      <td>53.2</td>\n",
       "      <td>49.012500</td>\n",
       "    </tr>\n",
       "    <tr>\n",
       "      <th>2010-12-31</th>\n",
       "      <td>45.8</td>\n",
       "      <td>53.2</td>\n",
       "      <td>49.116667</td>\n",
       "    </tr>\n",
       "  </tbody>\n",
       "</table>\n",
       "<p>365 rows × 3 columns</p>\n",
       "</div>"
      ],
      "text/plain": [
       "             min   max       mean\n",
       "date                             \n",
       "2010-01-01  45.8  53.3  49.170833\n",
       "2010-01-02  46.0  53.4  49.304167\n",
       "2010-01-03  46.1  53.5  49.391667\n",
       "2010-01-04  46.1  53.6  49.445833\n",
       "2010-01-05  46.1  53.8  49.491667\n",
       "...          ...   ...        ...\n",
       "2010-12-27  45.6  53.2  48.991667\n",
       "2010-12-28  45.6  53.2  49.000000\n",
       "2010-12-29  45.6  53.2  49.012500\n",
       "2010-12-30  45.6  53.2  49.012500\n",
       "2010-12-31  45.8  53.2  49.116667\n",
       "\n",
       "[365 rows x 3 columns]"
      ]
     },
     "execution_count": 17,
     "metadata": {},
     "output_type": "execute_result"
    }
   ],
   "source": [
    "day_viz"
   ]
  },
  {
   "cell_type": "code",
   "execution_count": 55,
   "id": "d4761c8e",
   "metadata": {},
   "outputs": [
    {
     "data": {
      "image/png": "[encoded data removed]",
      "text/plain": [
       "<Figure size 432x288 with 1 Axes>"
      ]
     },
     "metadata": {
      "needs_background": "light"
     },
     "output_type": "display_data"
    }
   ],
   "source": [
    "day_viz['min'].plot()\n",
    "day_viz['max'].plot()\n",
    "day_viz['mean'].plot()\n",
    "plt.legend()\n",
    "plt.show()"
   ]
  },
  {
   "cell_type": "markdown",
   "id": "4ef888d3",
   "metadata": {},
   "source": [
    "## data.seattle_weather()"
   ]
  },
  {
   "cell_type": "code",
   "execution_count": 56,
   "id": "52891b05",
   "metadata": {},
   "outputs": [],
   "source": [
    "seattle_weather = data.seattle_weather()"
   ]
  },
  {
   "cell_type": "code",
   "execution_count": 57,
   "id": "7dc16fe2",
   "metadata": {},
   "outputs": [
    {
     "name": "stdout",
     "output_type": "stream",
     "text": [
      "<class 'pandas.core.frame.DataFrame'>\n",
      "RangeIndex: 1461 entries, 0 to 1460\n",
      "Data columns (total 6 columns):\n",
      " #   Column         Non-Null Count  Dtype         \n",
      "---  ------         --------------  -----         \n",
      " 0   date           1461 non-null   datetime64[ns]\n",
      " 1   precipitation  1461 non-null   float64       \n",
      " 2   temp_max       1461 non-null   float64       \n",
      " 3   temp_min       1461 non-null   float64       \n",
      " 4   wind           1461 non-null   float64       \n",
      " 5   weather        1461 non-null   object        \n",
      "dtypes: datetime64[ns](1), float64(4), object(1)\n",
      "memory usage: 68.6+ KB\n"
     ]
    }
   ],
   "source": [
    "seattle_weather.info()"
   ]
  },
  {
   "cell_type": "code",
   "execution_count": 62,
   "id": "ed420e3a",
   "metadata": {},
   "outputs": [],
   "source": [
    "seattle_weather = seattle_weather.set_index('date').sort_index()"
   ]
  },
  {
   "cell_type": "markdown",
   "id": "2a7f362a",
   "metadata": {},
   "source": [
    "### 1. Which year and month combination has the highest amount of precipitation?"
   ]
  },
  {
   "cell_type": "code",
   "execution_count": 63,
   "id": "4bcec680",
   "metadata": {},
   "outputs": [],
   "source": [
    "max_precip = seattle_weather.resample('M').max()"
   ]
  },
  {
   "cell_type": "code",
   "execution_count": 64,
   "id": "eedd7ea0",
   "metadata": {
    "scrolled": true
   },
   "outputs": [
    {
     "data": {
      "text/html": [
       "<div>\n",
       "<style scoped>\n",
       "    .dataframe tbody tr th:only-of-type {\n",
       "        vertical-align: middle;\n",
       "    }\n",
       "\n",
       "    .dataframe tbody tr th {\n",
       "        vertical-align: top;\n",
       "    }\n",
       "\n",
       "    .dataframe thead th {\n",
       "        text-align: right;\n",
       "    }\n",
       "</style>\n",
       "<table border=\"1\" class=\"dataframe\">\n",
       "  <thead>\n",
       "    <tr style=\"text-align: right;\">\n",
       "      <th></th>\n",
       "      <th>precipitation</th>\n",
       "      <th>temp_max</th>\n",
       "      <th>temp_min</th>\n",
       "      <th>wind</th>\n",
       "      <th>weather</th>\n",
       "    </tr>\n",
       "    <tr>\n",
       "      <th>date</th>\n",
       "      <th></th>\n",
       "      <th></th>\n",
       "      <th></th>\n",
       "      <th></th>\n",
       "      <th></th>\n",
       "    </tr>\n",
       "  </thead>\n",
       "  <tbody>\n",
       "    <tr>\n",
       "      <th>2015-03-31</th>\n",
       "      <td>55.9</td>\n",
       "      <td>20.6</td>\n",
       "      <td>10.6</td>\n",
       "      <td>5.7</td>\n",
       "      <td>sun</td>\n",
       "    </tr>\n",
       "  </tbody>\n",
       "</table>\n",
       "</div>"
      ],
      "text/plain": [
       "            precipitation  temp_max  temp_min  wind weather\n",
       "date                                                       \n",
       "2015-03-31           55.9      20.6      10.6   5.7     sun"
      ]
     },
     "execution_count": 64,
     "metadata": {},
     "output_type": "execute_result"
    }
   ],
   "source": [
    "max_precip[max_precip.precipitation.max()==max_precip.precipitation]"
   ]
  },
  {
   "cell_type": "code",
   "execution_count": 69,
   "id": "366636c6",
   "metadata": {},
   "outputs": [],
   "source": [
    "seattle_weather1 = seattle_weather.copy()"
   ]
  },
  {
   "cell_type": "code",
   "execution_count": 70,
   "id": "7f90fedf",
   "metadata": {},
   "outputs": [],
   "source": [
    "seattle_weather1['year_month'] = seattle_weather1.index.strftime('%Y-%b')"
   ]
  },
  {
   "cell_type": "code",
   "execution_count": 73,
   "id": "a2daa6a3",
   "metadata": {},
   "outputs": [
    {
     "data": {
      "text/plain": [
       "year_month\n",
       "2015-Dec    284.5\n",
       "Name: precipitation, dtype: float64"
      ]
     },
     "execution_count": 73,
     "metadata": {},
     "output_type": "execute_result"
    }
   ],
   "source": [
    "seattle_weather1.groupby('year_month').sum().sort_values('precipitation', ascending=False).precipitation.head(1)\n"
   ]
  },
  {
   "cell_type": "markdown",
   "id": "fe1c7284",
   "metadata": {},
   "source": [
    "### 2. Visualize the amount of monthly precipitation over time."
   ]
  },
  {
   "cell_type": "code",
   "execution_count": 75,
   "id": "dc6e83bb",
   "metadata": {},
   "outputs": [
    {
     "data": {
      "text/plain": [
       "<AxesSubplot:xlabel='date'>"
      ]
     },
     "execution_count": 75,
     "metadata": {},
     "output_type": "execute_result"
    },
    {
     "data": {
      "image/png": "[encoded data removed]",
      "text/plain": [
       "<Figure size 432x288 with 1 Axes>"
      ]
     },
     "metadata": {
      "needs_background": "light"
     },
     "output_type": "display_data"
    }
   ],
   "source": [
    "seattle_weather.resample('M').sum().precipitation.plot()"
   ]
  },
  {
   "cell_type": "markdown",
   "id": "fb8d01fe",
   "metadata": {},
   "source": [
    "### 3. Visualize the amount of wind over time. Choose a time interval you think is appropriate."
   ]
  },
  {
   "cell_type": "code",
   "execution_count": 76,
   "id": "1a9ba737",
   "metadata": {},
   "outputs": [
    {
     "data": {
      "text/plain": [
       "<AxesSubplot:xlabel='date'>"
      ]
     },
     "execution_count": 76,
     "metadata": {},
     "output_type": "execute_result"
    },
    {
     "data": {
      "image/png": "[encoded data removed]",
      "text/plain": [
       "<Figure size 432x288 with 1 Axes>"
      ]
     },
     "metadata": {
      "needs_background": "light"
     },
     "output_type": "display_data"
    }
   ],
   "source": [
    "seattle_weather.resample('M').sum().wind.plot()"
   ]
  },
  {
   "cell_type": "markdown",
   "id": "fee56eae",
   "metadata": {},
   "source": [
    "### 4. Which year-month combination is the windiest?"
   ]
  },
  {
   "cell_type": "code",
   "execution_count": 77,
   "id": "3e5a5653",
   "metadata": {},
   "outputs": [
    {
     "data": {
      "text/plain": [
       "year_month\n",
       "2015-Dec    134.6\n",
       "Name: wind, dtype: float64"
      ]
     },
     "execution_count": 77,
     "metadata": {},
     "output_type": "execute_result"
    }
   ],
   "source": [
    "seattle_weather1.groupby('year_month').sum().sort_values('wind', ascending=False).wind.head(1)\n"
   ]
  },
  {
   "cell_type": "markdown",
   "id": "8da5e901",
   "metadata": {},
   "source": [
    "### 5. What's the sunniest year? (Hint: which day has the highest number of days where weather == sun?)"
   ]
  },
  {
   "cell_type": "code",
   "execution_count": 80,
   "id": "2b714195",
   "metadata": {
    "scrolled": true
   },
   "outputs": [],
   "source": [
    "seattle_weather['sunny_day'] = seattle_weather.weather=='sun'"
   ]
  },
  {
   "cell_type": "code",
   "execution_count": 81,
   "id": "1c798217",
   "metadata": {},
   "outputs": [],
   "source": [
    "seattle_weather['year'] = seattle_weather.index.year"
   ]
  },
  {
   "cell_type": "code",
   "execution_count": 83,
   "id": "be4d8ac0",
   "metadata": {},
   "outputs": [
    {
     "data": {
      "text/plain": [
       "year\n",
       "2014    211\n",
       "Name: sunny_day, dtype: int64"
      ]
     },
     "execution_count": 83,
     "metadata": {},
     "output_type": "execute_result"
    }
   ],
   "source": [
    "seattle_weather.groupby('year').sum().sunny_day.sort_values(ascending=False).head(1)\n",
    "\n"
   ]
  },
  {
   "cell_type": "markdown",
   "id": "8b027fef",
   "metadata": {},
   "source": [
    "### 6. In which month does it rain the most?"
   ]
  },
  {
   "cell_type": "code",
   "execution_count": 90,
   "id": "e2480277",
   "metadata": {},
   "outputs": [],
   "source": [
    "seattle_weather['month'] = seattle_weather.index.month_name()"
   ]
  },
  {
   "cell_type": "code",
   "execution_count": 91,
   "id": "3dcfc3a6",
   "metadata": {},
   "outputs": [],
   "source": [
    "seattle_weather['rainy_day'] = seattle_weather.weather=='rain'"
   ]
  },
  {
   "cell_type": "code",
   "execution_count": 92,
   "id": "c254902d",
   "metadata": {},
   "outputs": [
    {
     "data": {
      "text/plain": [
       "month\n",
       "February    40\n",
       "Name: rainy_day, dtype: int64"
      ]
     },
     "execution_count": 92,
     "metadata": {},
     "output_type": "execute_result"
    }
   ],
   "source": [
    "seattle_weather.groupby('month').sum().rainy_day.sort_values(ascending=False).head(1)\n"
   ]
  },
  {
   "cell_type": "markdown",
   "id": "ed9998f2",
   "metadata": {},
   "source": [
    "### 7. Which month has the most number of days with a non-zero amount of precipitation?"
   ]
  },
  {
   "cell_type": "code",
   "execution_count": 93,
   "id": "8d236f5d",
   "metadata": {},
   "outputs": [],
   "source": [
    "seattle_weather['has_rain'] = seattle_weather.precipitation > 0"
   ]
  },
  {
   "cell_type": "code",
   "execution_count": 94,
   "id": "b3ff3d21",
   "metadata": {},
   "outputs": [
    {
     "data": {
      "text/plain": [
       "month\n",
       "December    81\n",
       "Name: has_rain, dtype: int64"
      ]
     },
     "execution_count": 94,
     "metadata": {},
     "output_type": "execute_result"
    }
   ],
   "source": [
    "seattle_weather.groupby('month').sum().has_rain.sort_values(ascending=False).head(1)\n"
   ]
  },
  {
   "cell_type": "markdown",
   "id": "f129ee5e",
   "metadata": {},
   "source": [
    "## data.flights_20k()"
   ]
  },
  {
   "cell_type": "code",
   "execution_count": 29,
   "id": "fbb0fc7a",
   "metadata": {},
   "outputs": [],
   "source": [
    "flights = data.flights_20k()"
   ]
  },
  {
   "cell_type": "code",
   "execution_count": 30,
   "id": "b0727463",
   "metadata": {},
   "outputs": [
    {
     "name": "stdout",
     "output_type": "stream",
     "text": [
      "<class 'pandas.core.frame.DataFrame'>\n",
      "RangeIndex: 20000 entries, 0 to 19999\n",
      "Data columns (total 5 columns):\n",
      " #   Column       Non-Null Count  Dtype         \n",
      "---  ------       --------------  -----         \n",
      " 0   date         20000 non-null  datetime64[ns]\n",
      " 1   delay        20000 non-null  int64         \n",
      " 2   distance     20000 non-null  int64         \n",
      " 3   origin       20000 non-null  object        \n",
      " 4   destination  20000 non-null  object        \n",
      "dtypes: datetime64[ns](1), int64(2), object(2)\n",
      "memory usage: 781.4+ KB\n"
     ]
    }
   ],
   "source": [
    "flights.info()"
   ]
  },
  {
   "cell_type": "code",
   "execution_count": 31,
   "id": "44081406",
   "metadata": {},
   "outputs": [
    {
     "data": {
      "text/html": [
       "<div>\n",
       "<style scoped>\n",
       "    .dataframe tbody tr th:only-of-type {\n",
       "        vertical-align: middle;\n",
       "    }\n",
       "\n",
       "    .dataframe tbody tr th {\n",
       "        vertical-align: top;\n",
       "    }\n",
       "\n",
       "    .dataframe thead th {\n",
       "        text-align: right;\n",
       "    }\n",
       "</style>\n",
       "<table border=\"1\" class=\"dataframe\">\n",
       "  <thead>\n",
       "    <tr style=\"text-align: right;\">\n",
       "      <th></th>\n",
       "      <th>date</th>\n",
       "      <th>delay</th>\n",
       "      <th>distance</th>\n",
       "      <th>origin</th>\n",
       "      <th>destination</th>\n",
       "    </tr>\n",
       "  </thead>\n",
       "  <tbody>\n",
       "    <tr>\n",
       "      <th>0</th>\n",
       "      <td>2001-01-13 14:56:00</td>\n",
       "      <td>32</td>\n",
       "      <td>417</td>\n",
       "      <td>SAN</td>\n",
       "      <td>SJC</td>\n",
       "    </tr>\n",
       "    <tr>\n",
       "      <th>1</th>\n",
       "      <td>2001-01-31 16:40:00</td>\n",
       "      <td>-5</td>\n",
       "      <td>1093</td>\n",
       "      <td>FLL</td>\n",
       "      <td>ISP</td>\n",
       "    </tr>\n",
       "    <tr>\n",
       "      <th>2</th>\n",
       "      <td>2001-02-11 18:39:00</td>\n",
       "      <td>3</td>\n",
       "      <td>293</td>\n",
       "      <td>LBB</td>\n",
       "      <td>DAL</td>\n",
       "    </tr>\n",
       "    <tr>\n",
       "      <th>3</th>\n",
       "      <td>2001-01-10 21:00:00</td>\n",
       "      <td>-15</td>\n",
       "      <td>550</td>\n",
       "      <td>MSY</td>\n",
       "      <td>MCO</td>\n",
       "    </tr>\n",
       "    <tr>\n",
       "      <th>4</th>\n",
       "      <td>2001-03-30 21:45:00</td>\n",
       "      <td>-2</td>\n",
       "      <td>229</td>\n",
       "      <td>STL</td>\n",
       "      <td>IND</td>\n",
       "    </tr>\n",
       "  </tbody>\n",
       "</table>\n",
       "</div>"
      ],
      "text/plain": [
       "                 date  delay  distance origin destination\n",
       "0 2001-01-13 14:56:00     32       417    SAN         SJC\n",
       "1 2001-01-31 16:40:00     -5      1093    FLL         ISP\n",
       "2 2001-02-11 18:39:00      3       293    LBB         DAL\n",
       "3 2001-01-10 21:00:00    -15       550    MSY         MCO\n",
       "4 2001-03-30 21:45:00     -2       229    STL         IND"
      ]
     },
     "execution_count": 31,
     "metadata": {},
     "output_type": "execute_result"
    }
   ],
   "source": [
    "flights.head()"
   ]
  },
  {
   "cell_type": "markdown",
   "id": "30e1a00f",
   "metadata": {},
   "source": [
    "### 1. Convert any negative delays to 0."
   ]
  },
  {
   "cell_type": "code",
   "execution_count": 32,
   "id": "86ef74e3",
   "metadata": {},
   "outputs": [],
   "source": [
    "flights['delay'].mask(flights['delay']<0,0, inplace=True)"
   ]
  },
  {
   "cell_type": "code",
   "execution_count": 33,
   "id": "c750c182",
   "metadata": {},
   "outputs": [
    {
     "data": {
      "text/html": [
       "<div>\n",
       "<style scoped>\n",
       "    .dataframe tbody tr th:only-of-type {\n",
       "        vertical-align: middle;\n",
       "    }\n",
       "\n",
       "    .dataframe tbody tr th {\n",
       "        vertical-align: top;\n",
       "    }\n",
       "\n",
       "    .dataframe thead th {\n",
       "        text-align: right;\n",
       "    }\n",
       "</style>\n",
       "<table border=\"1\" class=\"dataframe\">\n",
       "  <thead>\n",
       "    <tr style=\"text-align: right;\">\n",
       "      <th></th>\n",
       "      <th>date</th>\n",
       "      <th>delay</th>\n",
       "      <th>distance</th>\n",
       "      <th>origin</th>\n",
       "      <th>destination</th>\n",
       "    </tr>\n",
       "  </thead>\n",
       "  <tbody>\n",
       "    <tr>\n",
       "      <th>0</th>\n",
       "      <td>2001-01-13 14:56:00</td>\n",
       "      <td>32</td>\n",
       "      <td>417</td>\n",
       "      <td>SAN</td>\n",
       "      <td>SJC</td>\n",
       "    </tr>\n",
       "    <tr>\n",
       "      <th>1</th>\n",
       "      <td>2001-01-31 16:40:00</td>\n",
       "      <td>0</td>\n",
       "      <td>1093</td>\n",
       "      <td>FLL</td>\n",
       "      <td>ISP</td>\n",
       "    </tr>\n",
       "    <tr>\n",
       "      <th>2</th>\n",
       "      <td>2001-02-11 18:39:00</td>\n",
       "      <td>3</td>\n",
       "      <td>293</td>\n",
       "      <td>LBB</td>\n",
       "      <td>DAL</td>\n",
       "    </tr>\n",
       "    <tr>\n",
       "      <th>3</th>\n",
       "      <td>2001-01-10 21:00:00</td>\n",
       "      <td>0</td>\n",
       "      <td>550</td>\n",
       "      <td>MSY</td>\n",
       "      <td>MCO</td>\n",
       "    </tr>\n",
       "    <tr>\n",
       "      <th>4</th>\n",
       "      <td>2001-03-30 21:45:00</td>\n",
       "      <td>0</td>\n",
       "      <td>229</td>\n",
       "      <td>STL</td>\n",
       "      <td>IND</td>\n",
       "    </tr>\n",
       "    <tr>\n",
       "      <th>...</th>\n",
       "      <td>...</td>\n",
       "      <td>...</td>\n",
       "      <td>...</td>\n",
       "      <td>...</td>\n",
       "      <td>...</td>\n",
       "    </tr>\n",
       "    <tr>\n",
       "      <th>19995</th>\n",
       "      <td>2001-03-22 15:10:00</td>\n",
       "      <td>4</td>\n",
       "      <td>446</td>\n",
       "      <td>SAN</td>\n",
       "      <td>OAK</td>\n",
       "    </tr>\n",
       "    <tr>\n",
       "      <th>19996</th>\n",
       "      <td>2001-01-19 13:05:00</td>\n",
       "      <td>0</td>\n",
       "      <td>1489</td>\n",
       "      <td>SEA</td>\n",
       "      <td>MCI</td>\n",
       "    </tr>\n",
       "    <tr>\n",
       "      <th>19997</th>\n",
       "      <td>2001-02-07 11:37:00</td>\n",
       "      <td>0</td>\n",
       "      <td>1848</td>\n",
       "      <td>MCO</td>\n",
       "      <td>PHX</td>\n",
       "    </tr>\n",
       "    <tr>\n",
       "      <th>19998</th>\n",
       "      <td>2001-02-24 16:50:00</td>\n",
       "      <td>42</td>\n",
       "      <td>443</td>\n",
       "      <td>RDU</td>\n",
       "      <td>BNA</td>\n",
       "    </tr>\n",
       "    <tr>\n",
       "      <th>19999</th>\n",
       "      <td>2001-03-14 11:33:00</td>\n",
       "      <td>0</td>\n",
       "      <td>328</td>\n",
       "      <td>ABQ</td>\n",
       "      <td>PHX</td>\n",
       "    </tr>\n",
       "  </tbody>\n",
       "</table>\n",
       "<p>20000 rows × 5 columns</p>\n",
       "</div>"
      ],
      "text/plain": [
       "                     date  delay  distance origin destination\n",
       "0     2001-01-13 14:56:00     32       417    SAN         SJC\n",
       "1     2001-01-31 16:40:00      0      1093    FLL         ISP\n",
       "2     2001-02-11 18:39:00      3       293    LBB         DAL\n",
       "3     2001-01-10 21:00:00      0       550    MSY         MCO\n",
       "4     2001-03-30 21:45:00      0       229    STL         IND\n",
       "...                   ...    ...       ...    ...         ...\n",
       "19995 2001-03-22 15:10:00      4       446    SAN         OAK\n",
       "19996 2001-01-19 13:05:00      0      1489    SEA         MCI\n",
       "19997 2001-02-07 11:37:00      0      1848    MCO         PHX\n",
       "19998 2001-02-24 16:50:00     42       443    RDU         BNA\n",
       "19999 2001-03-14 11:33:00      0       328    ABQ         PHX\n",
       "\n",
       "[20000 rows x 5 columns]"
      ]
     },
     "execution_count": 33,
     "metadata": {},
     "output_type": "execute_result"
    }
   ],
   "source": [
    "flights"
   ]
  },
  {
   "cell_type": "code",
   "execution_count": 34,
   "id": "70375fb7",
   "metadata": {},
   "outputs": [],
   "source": [
    "month_delay = flights.reset_index().set_index('date').resample('M').mean()"
   ]
  },
  {
   "cell_type": "code",
   "execution_count": 35,
   "id": "126a0f0f",
   "metadata": {},
   "outputs": [
    {
     "data": {
      "text/html": [
       "<div>\n",
       "<style scoped>\n",
       "    .dataframe tbody tr th:only-of-type {\n",
       "        vertical-align: middle;\n",
       "    }\n",
       "\n",
       "    .dataframe tbody tr th {\n",
       "        vertical-align: top;\n",
       "    }\n",
       "\n",
       "    .dataframe thead th {\n",
       "        text-align: right;\n",
       "    }\n",
       "</style>\n",
       "<table border=\"1\" class=\"dataframe\">\n",
       "  <thead>\n",
       "    <tr style=\"text-align: right;\">\n",
       "      <th></th>\n",
       "      <th>index</th>\n",
       "      <th>delay</th>\n",
       "      <th>distance</th>\n",
       "    </tr>\n",
       "    <tr>\n",
       "      <th>date</th>\n",
       "      <th></th>\n",
       "      <th></th>\n",
       "      <th></th>\n",
       "    </tr>\n",
       "  </thead>\n",
       "  <tbody>\n",
       "    <tr>\n",
       "      <th>2001-01-31</th>\n",
       "      <td>9971.124558</td>\n",
       "      <td>11.301592</td>\n",
       "      <td>500.391952</td>\n",
       "    </tr>\n",
       "    <tr>\n",
       "      <th>2001-02-28</th>\n",
       "      <td>10070.690217</td>\n",
       "      <td>12.306106</td>\n",
       "      <td>511.156170</td>\n",
       "    </tr>\n",
       "    <tr>\n",
       "      <th>2001-03-31</th>\n",
       "      <td>9963.168534</td>\n",
       "      <td>9.875287</td>\n",
       "      <td>504.712069</td>\n",
       "    </tr>\n",
       "  </tbody>\n",
       "</table>\n",
       "</div>"
      ],
      "text/plain": [
       "                   index      delay    distance\n",
       "date                                           \n",
       "2001-01-31   9971.124558  11.301592  500.391952\n",
       "2001-02-28  10070.690217  12.306106  511.156170\n",
       "2001-03-31   9963.168534   9.875287  504.712069"
      ]
     },
     "execution_count": 35,
     "metadata": {},
     "output_type": "execute_result"
    }
   ],
   "source": [
    "month_delay"
   ]
  },
  {
   "cell_type": "markdown",
   "id": "32011701",
   "metadata": {},
   "source": [
    "### 2. Which hour of the day has the highest average delay?"
   ]
  },
  {
   "cell_type": "code",
   "execution_count": 96,
   "id": "f4d92839",
   "metadata": {
    "scrolled": true
   },
   "outputs": [],
   "source": [
    "flights = flights.reset_index().set_index('date')"
   ]
  },
  {
   "cell_type": "code",
   "execution_count": 97,
   "id": "7849009f",
   "metadata": {},
   "outputs": [],
   "source": [
    "flights['hour'] = flights.index.hour"
   ]
  },
  {
   "cell_type": "code",
   "execution_count": 101,
   "id": "52bd3984",
   "metadata": {},
   "outputs": [
    {
     "data": {
      "text/plain": [
       "hour\n",
       "3    302.5\n",
       "Name: delay, dtype: float64"
      ]
     },
     "execution_count": 101,
     "metadata": {},
     "output_type": "execute_result"
    }
   ],
   "source": [
    "flights.groupby('hour').mean().sort_values('delay', ascending=False).delay.head(1)"
   ]
  },
  {
   "cell_type": "markdown",
   "id": "2ef3c67e",
   "metadata": {},
   "source": [
    "### 3. Does the day of the week make a difference in the delay amount?"
   ]
  },
  {
   "cell_type": "code",
   "execution_count": 38,
   "id": "10c979d9",
   "metadata": {},
   "outputs": [],
   "source": [
    "flights['weekday'] = flights.date.dt.day_name()\n",
    "days = ['Monday','Tuesday','Wednesday','Thursday','Friday','Saturday', 'Sunday']"
   ]
  },
  {
   "cell_type": "code",
   "execution_count": 39,
   "id": "3d62b7f0",
   "metadata": {},
   "outputs": [],
   "source": [
    "weekday = flights.groupby('weekday').mean().reindex(days)"
   ]
  },
  {
   "cell_type": "code",
   "execution_count": 40,
   "id": "de01f854",
   "metadata": {},
   "outputs": [
    {
     "data": {
      "text/plain": [
       "<AxesSubplot:xlabel='weekday'>"
      ]
     },
     "execution_count": 40,
     "metadata": {},
     "output_type": "execute_result"
    },
    {
     "data": {
      "image/png": "[encoded data removed]",
      "text/plain": [
       "<Figure size 432x288 with 1 Axes>"
      ]
     },
     "metadata": {
      "needs_background": "light"
     },
     "output_type": "display_data"
    }
   ],
   "source": [
    "weekday.delay.plot()"
   ]
  },
  {
   "cell_type": "markdown",
   "id": "ea6e8b32",
   "metadata": {},
   "source": [
    "Fridays are more likely to have longer delays."
   ]
  },
  {
   "cell_type": "markdown",
   "id": "ef25c938",
   "metadata": {},
   "source": [
    "### 4. Does the month make a difference in the delay amount?"
   ]
  },
  {
   "cell_type": "code",
   "execution_count": 41,
   "id": "34c9e0d2",
   "metadata": {},
   "outputs": [],
   "source": [
    "flights['month'] = flights.date.dt.month"
   ]
  },
  {
   "cell_type": "code",
   "execution_count": 42,
   "id": "aca05f25",
   "metadata": {},
   "outputs": [],
   "source": [
    "delays_by_month = flights.groupby('month').mean()"
   ]
  },
  {
   "cell_type": "code",
   "execution_count": 43,
   "id": "097d4459",
   "metadata": {},
   "outputs": [
    {
     "data": {
      "text/plain": [
       "<AxesSubplot:xlabel='month'>"
      ]
     },
     "execution_count": 43,
     "metadata": {},
     "output_type": "execute_result"
    },
    {
     "data": {
      "image/png": "[encoded data removed]",
      "text/plain": [
       "<Figure size 432x288 with 1 Axes>"
      ]
     },
     "metadata": {
      "needs_background": "light"
     },
     "output_type": "display_data"
    }
   ],
   "source": [
    "delays_by_month.delay.plot()"
   ]
  },
  {
   "cell_type": "markdown",
   "id": "7ac50641",
   "metadata": {},
   "source": [
    "February has more delays than January and March"
   ]
  },
  {
   "cell_type": "code",
   "execution_count": null,
   "id": "382498dd",
   "metadata": {},
   "outputs": [],
   "source": []
  }
 ],
 "metadata": {
  "kernelspec": {
   "display_name": "Python 3 (ipykernel)",
   "language": "python",
   "name": "python3"
  },
  "language_info": {
   "codemirror_mode": {
    "name": "ipython",
    "version": 3
   },
   "file_extension": ".py",
   "mimetype": "text/x-python",
   "name": "python",
   "nbconvert_exporter": "python",
   "pygments_lexer": "ipython3",
   "version": "3.9.12"
  }
 },
 "nbformat": 4,
 "nbformat_minor": 5
}
